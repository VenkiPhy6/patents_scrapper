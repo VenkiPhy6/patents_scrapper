{
 "cells": [
  {
   "cell_type": "code",
   "execution_count": 14,
   "id": "3366b745-168a-4fad-9099-30be4c66716b",
   "metadata": {},
   "outputs": [],
   "source": [
    "import pandas as pd\n",
    "import bs4\n",
    "import pickle\n",
    "from selenium import webdriver\n",
    "from selenium.webdriver.common.by import By\n",
    "from selenium.webdriver.support.ui import WebDriverWait\n",
    "from selenium.webdriver.support import expected_conditions as EC\n",
    "from sspipe import p, px\n",
    "import time\n",
    "import os.path\n",
    "from os import walk\n",
    "import random\n",
    "from lxml import etree\n",
    "import numpy as np\n",
    "import requests"
   ]
  },
  {
   "cell_type": "markdown",
   "id": "7d479d01-3a74-4564-a5e9-7f9909763b54",
   "metadata": {},
   "source": [
    "## WARNING!\n",
    "\n",
    "Running what follows will (re)download ~1000 patent pages from Google Scholar. This is a time consuming process (around 2 hours). I have already run this and the output can be found in the path `./data/googpat_pages`."
   ]
  },
  {
   "cell_type": "markdown",
   "id": "7429b8d5-1da1-40e2-9ce7-2757c1a369b1",
   "metadata": {},
   "source": [
    "## Requirements for this code to work\n",
    "\n",
    "In addition to all the packages specified in the `requirements.txt` file, the following piece of code requires Mozilla Firefox browser to be installed. Please install it from Mozilla's website [here](https://www.mozilla.org/en-US/firefox/new/)."
   ]
  },
  {
   "cell_type": "code",
   "execution_count": 2,
   "id": "7d04b6fa-dc42-44ea-9d10-c8ba8b48d110",
   "metadata": {},
   "outputs": [],
   "source": [
    "search_page_url = r\"https://patents.google.com/?q=(%22international+depository+authority%22)&num=100&oq=%22international+depository+authority%22&page=\""
   ]
  },
  {
   "cell_type": "code",
   "execution_count": 3,
   "id": "44acb497-3ae3-4d74-9843-2f353fef2dfc",
   "metadata": {
    "scrolled": true
   },
   "outputs": [],
   "source": [
    "pat_ids = []\n",
    "with webdriver.Firefox() as driver:\n",
    "    for page_idx in range(10):\n",
    "        url = f\"{search_page_url}{page_idx}\"\n",
    "        driver.get(url)\n",
    "        time.sleep(7) # So as to not alert Google that we are scraping pages and avoid errors!\n",
    "        pg_results = driver.find_elements(By.XPATH, \"//span[@data-proto='OPEN_PATENT_PDF']\")\n",
    "        pat_ids.extend(list(map(lambda x: x.text, pg_results)))\n",
    "googpat_url = \"https://patents.google.com/patent/\"\n",
    "googpat_urls = list(map(lambda x: f\"{googpat_url}{x}/en\", pat_ids))\n",
    "#Saving the output for easy future access\n",
    "with open(\"./data/googpat_urls.pkl\", \"wb\") as file:\n",
    "    pickle.dump(googpat_urls, file)"
   ]
  },
  {
   "cell_type": "code",
   "execution_count": 34,
   "id": "4b94bf1d-33d6-459d-8556-dde798d6a0dd",
   "metadata": {
    "scrolled": true
   },
   "outputs": [],
   "source": [
    "#Useful to just reload the pickle file and without running the for loop again\n",
    "with open(\"./data/googpat_urls.pkl\", \"rb\") as file:\n",
    "    googpat_urls = pickle.load(file)"
   ]
  },
  {
   "cell_type": "code",
   "execution_count": 42,
   "id": "b1daa69c-557c-4d2c-93a2-7b285cb44b08",
   "metadata": {},
   "outputs": [
    {
     "name": "stdout",
     "output_type": "stream",
     "text": [
      "<class 'Exception'>\n",
      "https://patents.google.com/patent/JP2015525566A5/en\n",
      "<class 'Exception'>\n",
      "https://patents.google.com/patent/JP2012519190A5/en\n",
      "<class 'Exception'>\n",
      "https://patents.google.com/patent/RU2776223C2/en\n",
      "<class 'Exception'>\n",
      "https://patents.google.com/patent/RU2817101C1/en\n",
      "<class 'Exception'>\n",
      "https://patents.google.com/patent/EA040422B1/en\n",
      "<class 'Exception'>\n",
      "https://patents.google.com/patent/BR122017019426B1/en\n",
      "<class 'Exception'>\n",
      "https://patents.google.com/patent/BR112020001762B1/en\n",
      "<class 'Exception'>\n",
      "https://patents.google.com/patent/OA18880A/en\n",
      "<class 'Exception'>\n",
      "https://patents.google.com/patent/OA19179A/en\n",
      "<class 'Exception'>\n",
      "https://patents.google.com/patent/AU2022410395A1/en\n",
      "<class 'Exception'>\n",
      "https://patents.google.com/patent/CA3239145A1/en\n"
     ]
    }
   ],
   "source": [
    "#Going to the google patents URL and downloading the HTML of each patent page\n",
    "with webdriver.Firefox() as driver:\n",
    "    for pat_url in googpat_urls:\n",
    "        try:\n",
    "            driver.get(pat_url)\n",
    "            time.sleep(5)\n",
    "            #Expanding the CPCs list by clicking on the page so that all CPCs are available for later use\n",
    "            more_link = driver.find_element(By.XPATH, \"//div[contains(@class,  'more')]\")\n",
    "            more_link.click()\n",
    "            patid = pat_url.split(\"/\")[4]\n",
    "            with open(f\"./data/googpat_pages/{patid}.html\", 'wb') as file:\n",
    "                file.write(driver.page_source.encode())\n",
    "        except Exception:\n",
    "            print(Exception)\n",
    "            print(f\"{pat_url}\")\n",
    "            continue"
   ]
  }
 ],
 "metadata": {
  "kernelspec": {
   "display_name": "Python 3 (ipykernel)",
   "language": "python",
   "name": "python3"
  },
  "language_info": {
   "codemirror_mode": {
    "name": "ipython",
    "version": 3
   },
   "file_extension": ".py",
   "mimetype": "text/x-python",
   "name": "python",
   "nbconvert_exporter": "python",
   "pygments_lexer": "ipython3",
   "version": "3.10.2"
  }
 },
 "nbformat": 4,
 "nbformat_minor": 5
}
