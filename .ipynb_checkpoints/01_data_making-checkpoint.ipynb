{
 "cells": [
  {
   "cell_type": "code",
   "execution_count": 3,
   "id": "09f3f6c3-988d-4a0c-b165-0441f5e85699",
   "metadata": {},
   "outputs": [],
   "source": [
    "import pandas as pd\n",
    "import bs4\n",
    "from lxml import etree"
   ]
  },
  {
   "cell_type": "code",
   "execution_count": 12,
   "id": "c438119b-9cca-4ee2-9648-1972572eab54",
   "metadata": {},
   "outputs": [],
   "source": [
    "text_filepath = \"./data/pat_text/{}.txt\"\n",
    "claims_filepath = \"./data/pat_claims/{}.txt\"\n",
    "patid = 'AU616444B2'"
   ]
  },
  {
   "cell_type": "code",
   "execution_count": 13,
   "id": "8e880fea-3035-4ccf-bd53-0ac7618ec301",
   "metadata": {},
   "outputs": [],
   "source": [
    "html_soup = bs4.BeautifulSoup(open(f'./data/googpat_pages/{patid}.html', 'rb'), 'html.parser')\n",
    "dom = etree.HTML(str(html_soup))"
   ]
  },
  {
   "cell_type": "code",
   "execution_count": 14,
   "id": "f864731d-b982-44e7-826b-0dd7e756ea62",
   "metadata": {},
   "outputs": [
    {
     "ename": "TypeError",
     "evalue": "a bytes-like object is required, not 'str'",
     "output_type": "error",
     "traceback": [
      "\u001b[1;31m---------------------------------------------------------------------------\u001b[0m",
      "\u001b[1;31mTypeError\u001b[0m                                 Traceback (most recent call last)",
      "Cell \u001b[1;32mIn[14], line 2\u001b[0m\n\u001b[0;32m      1\u001b[0m \u001b[38;5;28;01mwith\u001b[39;00m \u001b[38;5;28mopen\u001b[39m(text_filepath\u001b[38;5;241m.\u001b[39mformat(patid), \u001b[38;5;124m'\u001b[39m\u001b[38;5;124mwb\u001b[39m\u001b[38;5;124m'\u001b[39m) \u001b[38;5;28;01mas\u001b[39;00m outfile: \n\u001b[1;32m----> 2\u001b[0m     \u001b[43moutfile\u001b[49m\u001b[38;5;241;43m.\u001b[39;49m\u001b[43mwrite\u001b[49m\u001b[43m(\u001b[49m\u001b[38;5;124;43m\"\u001b[39;49m\u001b[38;5;124;43m \u001b[39;49m\u001b[38;5;124;43m\"\u001b[39;49m\u001b[38;5;241;43m.\u001b[39;49m\u001b[43mjoin\u001b[49m\u001b[43m(\u001b[49m\u001b[43mdom\u001b[49m\u001b[38;5;241;43m.\u001b[39;49m\u001b[43mxpath\u001b[49m\u001b[43m(\u001b[49m\u001b[38;5;124;43m\"\u001b[39;49m\u001b[38;5;124;43m//patent-text[@name=\u001b[39;49m\u001b[38;5;124;43m'\u001b[39;49m\u001b[38;5;124;43mdescription\u001b[39;49m\u001b[38;5;124;43m'\u001b[39;49m\u001b[38;5;124;43m]//text()\u001b[39;49m\u001b[38;5;124;43m\"\u001b[39;49m\u001b[43m)\u001b[49m\u001b[43m)\u001b[49m\u001b[43m)\u001b[49m\n\u001b[0;32m      3\u001b[0m \u001b[38;5;28;01mwith\u001b[39;00m \u001b[38;5;28mopen\u001b[39m(claims_filepath\u001b[38;5;241m.\u001b[39mformat(patid), \u001b[38;5;124m'\u001b[39m\u001b[38;5;124mwb\u001b[39m\u001b[38;5;124m'\u001b[39m) \u001b[38;5;28;01mas\u001b[39;00m outfile: \n\u001b[0;32m      4\u001b[0m     outfile\u001b[38;5;241m.\u001b[39mwrite(\u001b[38;5;124m\"\u001b[39m\u001b[38;5;124m \u001b[39m\u001b[38;5;124m\"\u001b[39m\u001b[38;5;241m.\u001b[39mjoin(dom\u001b[38;5;241m.\u001b[39mxpath(\u001b[38;5;124m\"\u001b[39m\u001b[38;5;124m//patent-text[@name=\u001b[39m\u001b[38;5;124m'\u001b[39m\u001b[38;5;124mclaims\u001b[39m\u001b[38;5;124m'\u001b[39m\u001b[38;5;124m]//text()\u001b[39m\u001b[38;5;124m\"\u001b[39m)))\n",
      "\u001b[1;31mTypeError\u001b[0m: a bytes-like object is required, not 'str'"
     ]
    }
   ],
   "source": [
    "with open(text_filepath.format(patid), 'wb') as outfile: \n",
    "    outfile.write(\" \".join(dom.xpath(\"//patent-text[@name='description']//text()\")).encode())\n",
    "with open(claims_filepath.format(patid), 'wb') as outfile: \n",
    "    outfile.write(\" \".join(dom.xpath(\"//patent-text[@name='claims']//text()\")).encode())"
   ]
  },
  {
   "cell_type": "code",
   "execution_count": null,
   "id": "92605a37-692e-489e-acc5-bafcc8d314b9",
   "metadata": {},
   "outputs": [],
   "source": [
    "html_soup = bs4.BeautifulSoup(open('./data/googpat_pages/AU616444B2.html', 'rb'), 'html.parser')\n",
    "dom = etree.HTML(str(html_soup))\n",
    "cpc_elements = dom.xpath(\"//classification-viewer//a[@id='link' and contains(@class, 'state-modifier')]\")\n",
    "cpc_elements[0].text\n",
    "# list(map(lambda x: x.text, cpc_elements))"
   ]
  }
 ],
 "metadata": {
  "kernelspec": {
   "display_name": "Python 3 (ipykernel)",
   "language": "python",
   "name": "python3"
  },
  "language_info": {
   "codemirror_mode": {
    "name": "ipython",
    "version": 3
   },
   "file_extension": ".py",
   "mimetype": "text/x-python",
   "name": "python",
   "nbconvert_exporter": "python",
   "pygments_lexer": "ipython3",
   "version": "3.10.2"
  }
 },
 "nbformat": 4,
 "nbformat_minor": 5
}
