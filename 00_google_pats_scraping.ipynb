{
 "cells": [
  {
   "cell_type": "code",
   "execution_count": 14,
   "id": "3366b745-168a-4fad-9099-30be4c66716b",
   "metadata": {},
   "outputs": [],
   "source": [
    "import pandas as pd\n",
    "import bs4\n",
    "import pickle\n",
    "from selenium import webdriver\n",
    "from selenium.webdriver.common.by import By\n",
    "from selenium.webdriver.support.ui import WebDriverWait\n",
    "from selenium.webdriver.support import expected_conditions as EC\n",
    "from sspipe import p, px\n",
    "import time\n",
    "import os.path\n",
    "from os import walk\n",
    "import random\n",
    "from lxml import etree\n",
    "import numpy as np\n",
    "import requests"
   ]
  },
  {
   "cell_type": "code",
   "execution_count": 2,
   "id": "7d04b6fa-dc42-44ea-9d10-c8ba8b48d110",
   "metadata": {},
   "outputs": [],
   "source": [
    "# search_page_url = r\"https://patents.google.com/?q=(%22international+depository+authority%22)&num=100&oq=%22international+depository+authority%22&page=\""
   ]
  },
  {
   "cell_type": "code",
   "execution_count": 3,
   "id": "44acb497-3ae3-4d74-9843-2f353fef2dfc",
   "metadata": {
    "scrolled": true
   },
   "outputs": [],
   "source": [
    "# pat_ids = []\n",
    "# with webdriver.Firefox() as driver:\n",
    "#     for page_idx in range(10):\n",
    "#         url = f\"{search_page_url}{page_idx}\"\n",
    "#         driver.get(url)\n",
    "#         time.sleep(7)\n",
    "#         pg_results = driver.find_elements(By.XPATH, \"//span[@data-proto='OPEN_PATENT_PDF']\")\n",
    "#         pat_ids.extend(list(map(lambda x: x.text, pg_results)))"
   ]
  },
  {
   "cell_type": "code",
   "execution_count": 6,
   "id": "57754507-4051-4288-87ed-876010fcb5f3",
   "metadata": {
    "scrolled": true
   },
   "outputs": [],
   "source": [
    "# googpat_url = \"https://patents.google.com/patent/\"\n",
    "# googpat_urls = list(map(lambda x: f\"{googpat_url}{x}/en\", pat_ids))\n",
    "# with open(\"./googpat_urls.pkl\", \"wb\") as file:\n",
    "#     pickle.dump(googpat_urls, file)"
   ]
  },
  {
   "cell_type": "code",
   "execution_count": 34,
   "id": "4b94bf1d-33d6-459d-8556-dde798d6a0dd",
   "metadata": {
    "scrolled": true
   },
   "outputs": [],
   "source": [
    "with open(\"./data/googpat_urls.pkl\", \"rb\") as file:\n",
    "    googpat_urls = pickle.load(file)"
   ]
  },
  {
   "cell_type": "code",
   "execution_count": 33,
   "id": "e775cfb8-f55e-45c1-9f90-5f5310a68ca6",
   "metadata": {},
   "outputs": [],
   "source": [
    "# patents_dict = {}\n",
    "# with webdriver.Firefox() as driver:\n",
    "#     for pat_url in googpat_urls:\n",
    "#         try:\n",
    "#             driver.get(pat_url)\n",
    "#             time.sleep(5)\n",
    "#             more_link = driver.find_element(By.XPATH, \"//div[contains(@class,  'more')]\")\n",
    "#             more_link.click()\n",
    "#             cpc_elements = driver.find_elements(By.XPATH, \"//classification-viewer//a[@id='link' and contains(@class, 'state-modifier')]\")\n",
    "#             cpcs = list(map(lambda x: x.text, cpc_elements))\n",
    "#             claims = driver.find_element(By.XPATH, \"//section[@id='claims']\")\n",
    "#             patents_dict[pat_url] = {'cpc': np.array(cpcs)[list(map(lambda x: x!='', cpcs))], 'claim': claims.text}\n",
    "#         except:\n",
    "#             print(f\"{pat_url}\")\n",
    "#             continue"
   ]
  },
  {
   "cell_type": "code",
   "execution_count": 42,
   "id": "b1daa69c-557c-4d2c-93a2-7b285cb44b08",
   "metadata": {},
   "outputs": [
    {
     "name": "stdout",
     "output_type": "stream",
     "text": [
      "<class 'Exception'>\n",
      "https://patents.google.com/patent/JP2015525566A5/en\n",
      "<class 'Exception'>\n",
      "https://patents.google.com/patent/JP2012519190A5/en\n",
      "<class 'Exception'>\n",
      "https://patents.google.com/patent/RU2776223C2/en\n",
      "<class 'Exception'>\n",
      "https://patents.google.com/patent/RU2817101C1/en\n",
      "<class 'Exception'>\n",
      "https://patents.google.com/patent/EA040422B1/en\n",
      "<class 'Exception'>\n",
      "https://patents.google.com/patent/BR122017019426B1/en\n",
      "<class 'Exception'>\n",
      "https://patents.google.com/patent/BR112020001762B1/en\n",
      "<class 'Exception'>\n",
      "https://patents.google.com/patent/OA18880A/en\n",
      "<class 'Exception'>\n",
      "https://patents.google.com/patent/OA19179A/en\n",
      "<class 'Exception'>\n",
      "https://patents.google.com/patent/AU2022410395A1/en\n",
      "<class 'Exception'>\n",
      "https://patents.google.com/patent/CA3239145A1/en\n"
     ]
    }
   ],
   "source": [
    "with webdriver.Firefox() as driver:\n",
    "    for pat_url in googpat_urls:\n",
    "        try:\n",
    "            driver.get(pat_url)\n",
    "            time.sleep(5)\n",
    "            more_link = driver.find_element(By.XPATH, \"//div[contains(@class,  'more')]\")\n",
    "            more_link.click()\n",
    "            patid = pat_url.split(\"/\")[4]\n",
    "            with open(f\"./data/googpat_pages/{patid}.html\", 'wb') as file:\n",
    "                file.write(driver.page_source.encode())\n",
    "        except Exception:\n",
    "            print(Exception)\n",
    "            print(f\"{pat_url}\")\n",
    "            continue"
   ]
  }
 ],
 "metadata": {
  "kernelspec": {
   "display_name": "Python 3 (ipykernel)",
   "language": "python",
   "name": "python3"
  },
  "language_info": {
   "codemirror_mode": {
    "name": "ipython",
    "version": 3
   },
   "file_extension": ".py",
   "mimetype": "text/x-python",
   "name": "python",
   "nbconvert_exporter": "python",
   "pygments_lexer": "ipython3",
   "version": "3.10.2"
  }
 },
 "nbformat": 4,
 "nbformat_minor": 5
}
